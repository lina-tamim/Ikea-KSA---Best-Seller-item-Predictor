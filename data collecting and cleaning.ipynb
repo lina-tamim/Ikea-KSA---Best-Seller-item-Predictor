{
 "cells": [
  {
   "cell_type": "markdown",
   "id": "01ca35ec",
   "metadata": {},
   "source": [
    "# IT 362 - Princeples of Data Science\n",
    "\n",
    "Group#3\n",
    "\n",
    "Students names :\n",
    "\n",
    "1- Lina Alrabeah \n",
    "\n",
    "2- Lina Alshiddi\n",
    "\n",
    "3- Shekha Alabdulsalam\n",
    "\n",
    "4- Layan AlTowaijri\n",
    "\n",
    "\n",
    "# IKEA online website \n",
    "# 1.Data collection \n",
    "\n",
    "we will collect 9 features for each observation \n",
    "\n",
    "- Name : the name of product / (Qualitative )\n",
    "- Category : the category of the product /(Qualitative)\n",
    "- Prooduct_type : the product type /(Qualitative)\n",
    "- Price : the price of the product /(Quantative)\n",
    "- Review_count : number of reviews for product /(Quantative)\n",
    "- Badge :is the item one of the top seller or not/ (Qualitative)\n",
    "- have_Different_options :is the item have other options or not \"like different color\"/ (Qualitative)\n",
    "- New_product :is the item new or not / (Qualitative)\n",
    "- Discount :is the item have new discount /(Qualitative)\n",
    "\n"
   ]
  },
  {
   "cell_type": "code",
   "execution_count": 1,
   "id": "87a86ed6",
   "metadata": {},
   "outputs": [],
   "source": [
    "import requests\n",
    "from bs4 import BeautifulSoup \n",
    "import csv\n",
    "import pandas as pd"
   ]
  },
  {
   "cell_type": "code",
   "execution_count": 2,
   "id": "85bdbba6",
   "metadata": {},
   "outputs": [],
   "source": [
    "arrayurlCat = [\"childrens-furniture-18767/\", \"sofas-fu003/\", \"wardrobes-19053/\",\"furniture-sets-55036/\",\"beds-bm003/\",\n",
    "               \"bookcases-shelving-units-st002/\",\"tables-desks-fu004/\",\"cabinets-cupboards-st003/\",\"tv-media-furniture-10475/\",\n",
    "               \"chests-of-drawers-drawer-units-st004/\",\"outdoor-furniture-od003/\",\"gaming-furniture-55002/\",\"room-dividers-46080/\",\n",
    "               \"chairs-fu002/\",\"sideboards-buffets-console-tables-30454/\",\"trolleys-fu005/\",\"bar-furniture-16244/\",\"armchairs-chaise-longues-fu006/\",\n",
    "              \"nursery-furniture-45780/\",\"dining-furniture-700417/\"]\n",
    "url = \"https://www.ikea.com/sa/en/cat/\"\n",
    "\n",
    "product_data = []\n",
    "\n",
    "for urlCat in arrayurlCat:\n",
    "    #for page in range(2, 5):\n",
    "    req = requests.get(url + urlCat)\n",
    "    soup = BeautifulSoup(req.text, \"lxml\") \n",
    "    products = soup.find_all('div', {'class': 'plp-fragment-wrapper'})\n",
    "    category = soup.find('h1', {'class': 'plp-page-title__title'}).text.strip()\n",
    "\n",
    "    for i in products:\n",
    "        name = i.find('span', {'class': 'pip-header-section__title--small notranslate'}).text.strip()\n",
    "        price = i.find('span', {'class': 'pip-price__integer'}).text.strip()\n",
    "        badge = i.find('span', {'class': 'pip-commercial-message__title'})\n",
    "        new_lower = i.find('span', {'class': 'pip-product-highlight pip-product-highlight__nlp-label'})\n",
    "        new = i.find('span', {'class': 'pip-product-highlight pip-product-highlight__new'})\n",
    "        option = i.find('h4', {'class': 'plp-product-thumbnails__label'})\n",
    "        product_type = i.find('span', {'class': 'pip-header-section__description-text'}).text.strip()\n",
    "        review_count = i.find('span', {'class': 'pip-rating__label'})\n",
    "\n",
    "        if badge is not None:\n",
    "            if badge.text.strip()==\"Top seller\":\n",
    "                badge_text = badge.text.strip()\n",
    "               \n",
    "        else:\n",
    "                badge_text = \"Not top seller\"\n",
    "            \n",
    "        if new_lower is not None:\n",
    "                newLowerTag = new_lower.text.strip().replace(\"\\n\", \" \")\n",
    "        else:\n",
    "                newLowerTag=\"Not have lower price\"\n",
    "                \n",
    "        if new is not None:\n",
    "                newTag = new.text.strip()\n",
    "        else:\n",
    "                newTag = \"Not new\"\n",
    "            \n",
    "        if option is not None:\n",
    "                option_text = option.text.strip().split(\"s\")[0]\n",
    "        else:\n",
    "                option_text = \"No option\"\n",
    "            \n",
    "        if review_count is not None:\n",
    "                review_count = int(review_count.text.strip()[1:-1])\n",
    "        else:\n",
    "                review_count = 0\n",
    "        \n",
    "        product_data.append({\n",
    "                'name': name,\n",
    "                'category': category,\n",
    "                'product_type': product_type,\n",
    "                'review_count': review_count,\n",
    "                'price': price,\n",
    "                'badge': badge_text,\n",
    "                'option': option_text,\n",
    "                'newTag': newTag,\n",
    "                'newLowerTag':newLowerTag\n",
    "        })\n",
    "\n",
    "df = pd.concat([pd.DataFrame(product_data) for _ in range(len(arrayurlCat))], ignore_index=True)"
   ]
  },
  {
   "cell_type": "code",
   "execution_count": 3,
   "id": "e69b9107",
   "metadata": {},
   "outputs": [],
   "source": [
    "df.columns= [\"Name\" ,\"Category\", \"Product_type\" , \"Review_count\", \"Price\"  , \"Badge\" ,  \"have_Different_options\",\"New_product\",\"Discount\"]\n",
    "df\n",
    "df.to_csv('Ikea_dataset_collecting.csv' ,  index=False)\n"
   ]
  },
  {
   "cell_type": "markdown",
   "id": "836eaa26",
   "metadata": {},
   "source": [
    "# 2.Data cleaning\n"
   ]
  },
  {
   "cell_type": "code",
   "execution_count": 4,
   "id": "afadf816",
   "metadata": {},
   "outputs": [],
   "source": [
    "import numpy as np \n",
    "import pandas as pd \n",
    "import seaborn as sns\n",
    "%matplotlib inline\n",
    "from matplotlib import pyplot as plt\n",
    "from matplotlib import style\n",
    "from sklearn import preprocessing\n",
    "import plotly.express as px\n",
    "ikea = pd.read_csv('Ikea_dataset_collecting.csv')\n",
    "\n"
   ]
  },
  {
   "cell_type": "code",
   "execution_count": 5,
   "id": "eef60e3d",
   "metadata": {},
   "outputs": [
    {
     "data": {
      "text/html": [
       "<div>\n",
       "<style scoped>\n",
       "    .dataframe tbody tr th:only-of-type {\n",
       "        vertical-align: middle;\n",
       "    }\n",
       "\n",
       "    .dataframe tbody tr th {\n",
       "        vertical-align: top;\n",
       "    }\n",
       "\n",
       "    .dataframe thead th {\n",
       "        text-align: right;\n",
       "    }\n",
       "</style>\n",
       "<table border=\"1\" class=\"dataframe\">\n",
       "  <thead>\n",
       "    <tr style=\"text-align: right;\">\n",
       "      <th></th>\n",
       "      <th>Name</th>\n",
       "      <th>Category</th>\n",
       "      <th>Product_type</th>\n",
       "      <th>Review_count</th>\n",
       "      <th>Price</th>\n",
       "      <th>Badge</th>\n",
       "      <th>have_Different_options</th>\n",
       "      <th>New_product</th>\n",
       "      <th>Discount</th>\n",
       "    </tr>\n",
       "  </thead>\n",
       "  <tbody>\n",
       "    <tr>\n",
       "      <th>0</th>\n",
       "      <td>LÄTT</td>\n",
       "      <td>Children's furniture</td>\n",
       "      <td>Children's table with 2 chairs</td>\n",
       "      <td>17</td>\n",
       "      <td>199</td>\n",
       "      <td>Top seller</td>\n",
       "      <td>No option</td>\n",
       "      <td>Not new</td>\n",
       "      <td>New Lower Price</td>\n",
       "    </tr>\n",
       "    <tr>\n",
       "      <th>1</th>\n",
       "      <td>MAMMUT</td>\n",
       "      <td>Children's furniture</td>\n",
       "      <td>Children's table,</td>\n",
       "      <td>6</td>\n",
       "      <td>189</td>\n",
       "      <td>Not top seller</td>\n",
       "      <td>No option</td>\n",
       "      <td>Not new</td>\n",
       "      <td>Not have lower price</td>\n",
       "    </tr>\n",
       "    <tr>\n",
       "      <th>2</th>\n",
       "      <td>MAMMUT</td>\n",
       "      <td>Children's furniture</td>\n",
       "      <td>Children's table,</td>\n",
       "      <td>0</td>\n",
       "      <td>115</td>\n",
       "      <td>Not top seller</td>\n",
       "      <td>No option</td>\n",
       "      <td>Not new</td>\n",
       "      <td>Not have lower price</td>\n",
       "    </tr>\n",
       "    <tr>\n",
       "      <th>3</th>\n",
       "      <td>IKEA PS LÖMSK</td>\n",
       "      <td>Children's furniture</td>\n",
       "      <td>Swivel armchair</td>\n",
       "      <td>1</td>\n",
       "      <td>449</td>\n",
       "      <td>Not top seller</td>\n",
       "      <td>No option</td>\n",
       "      <td>Not new</td>\n",
       "      <td>Not have lower price</td>\n",
       "    </tr>\n",
       "    <tr>\n",
       "      <th>4</th>\n",
       "      <td>SMÅSTAD</td>\n",
       "      <td>Children's furniture</td>\n",
       "      <td>Wardrobe with pull-out unit,</td>\n",
       "      <td>0</td>\n",
       "      <td>1,223</td>\n",
       "      <td>Not top seller</td>\n",
       "      <td>No option</td>\n",
       "      <td>Not new</td>\n",
       "      <td>Not have lower price</td>\n",
       "    </tr>\n",
       "  </tbody>\n",
       "</table>\n",
       "</div>"
      ],
      "text/plain": [
       "            Name              Category                    Product_type  \\\n",
       "0           LÄTT  Children's furniture  Children's table with 2 chairs   \n",
       "1         MAMMUT  Children's furniture               Children's table,   \n",
       "2         MAMMUT  Children's furniture               Children's table,   \n",
       "3  IKEA PS LÖMSK  Children's furniture                 Swivel armchair   \n",
       "4        SMÅSTAD  Children's furniture    Wardrobe with pull-out unit,   \n",
       "\n",
       "   Review_count  Price           Badge have_Different_options New_product  \\\n",
       "0            17    199      Top seller              No option     Not new   \n",
       "1             6    189  Not top seller              No option     Not new   \n",
       "2             0    115  Not top seller              No option     Not new   \n",
       "3             1    449  Not top seller              No option     Not new   \n",
       "4             0  1,223  Not top seller              No option     Not new   \n",
       "\n",
       "               Discount  \n",
       "0       New Lower Price  \n",
       "1  Not have lower price  \n",
       "2  Not have lower price  \n",
       "3  Not have lower price  \n",
       "4  Not have lower price  "
      ]
     },
     "execution_count": 5,
     "metadata": {},
     "output_type": "execute_result"
    }
   ],
   "source": [
    "ikea.head()"
   ]
  },
  {
   "cell_type": "code",
   "execution_count": 6,
   "id": "2ede63cd",
   "metadata": {},
   "outputs": [
    {
     "data": {
      "text/plain": [
       "(9600, 9)"
      ]
     },
     "execution_count": 6,
     "metadata": {},
     "output_type": "execute_result"
    }
   ],
   "source": [
    "ikea.shape"
   ]
  },
  {
   "cell_type": "code",
   "execution_count": 7,
   "id": "623b60e9",
   "metadata": {},
   "outputs": [
    {
     "name": "stdout",
     "output_type": "stream",
     "text": [
      "<class 'pandas.core.frame.DataFrame'>\n",
      "RangeIndex: 9600 entries, 0 to 9599\n",
      "Data columns (total 9 columns):\n",
      " #   Column                  Non-Null Count  Dtype \n",
      "---  ------                  --------------  ----- \n",
      " 0   Name                    9600 non-null   object\n",
      " 1   Category                9600 non-null   object\n",
      " 2   Product_type            9600 non-null   object\n",
      " 3   Review_count            9600 non-null   int64 \n",
      " 4   Price                   9600 non-null   object\n",
      " 5   Badge                   9600 non-null   object\n",
      " 6   have_Different_options  9600 non-null   object\n",
      " 7   New_product             9600 non-null   object\n",
      " 8   Discount                9600 non-null   object\n",
      "dtypes: int64(1), object(8)\n",
      "memory usage: 675.1+ KB\n"
     ]
    }
   ],
   "source": [
    "# print type and some information about each column \n",
    "ikea.info()"
   ]
  },
  {
   "cell_type": "markdown",
   "id": "8f204b2f",
   "metadata": {},
   "source": [
    "##### We can coclude from the above that :\n",
    "- The categorical features :\n",
    "     1-Name\n",
    "     2-Category \n",
    "     3-Product_type\n",
    "     4-Badge \n",
    "     5-have_Diffrent_option\n",
    "     6-New product \n",
    "     7-Discount\n",
    "     8-Price\n",
    "- The numerical featues:\n",
    "     1-Review_count\n",
    "\n",
    "##### but the Problem here , that the price feature are in number and consider as Quantitative , So we need to convert the type object that we got it from data collecting into int type "
   ]
  },
  {
   "cell_type": "code",
   "execution_count": 8,
   "id": "08ee16bd",
   "metadata": {},
   "outputs": [
    {
     "name": "stdout",
     "output_type": "stream",
     "text": [
      "object\n",
      "<class 'pandas.core.frame.DataFrame'>\n",
      "RangeIndex: 9600 entries, 0 to 9599\n",
      "Data columns (total 9 columns):\n",
      " #   Column                  Non-Null Count  Dtype \n",
      "---  ------                  --------------  ----- \n",
      " 0   Name                    9600 non-null   object\n",
      " 1   Category                9600 non-null   object\n",
      " 2   Product_type            9600 non-null   object\n",
      " 3   Review_count            9600 non-null   int64 \n",
      " 4   Price                   9600 non-null   int64 \n",
      " 5   Badge                   9600 non-null   object\n",
      " 6   have_Different_options  9600 non-null   object\n",
      " 7   New_product             9600 non-null   object\n",
      " 8   Discount                9600 non-null   object\n",
      "dtypes: int64(2), object(7)\n",
      "memory usage: 675.1+ KB\n"
     ]
    }
   ],
   "source": [
    "print(ikea['Price'].dtype)\n",
    "ikea['Price']=ikea['Price'].str.replace(',' , '')\n",
    "ikea['Price']=ikea['Price'].astype(int)\n",
    "ikea.info()"
   ]
  },
  {
   "cell_type": "markdown",
   "id": "8bb8f6b8",
   "metadata": {},
   "source": [
    "##### first we remove the comma in price to be able to convert it into int type , and then we convert it Successfully "
   ]
  },
  {
   "cell_type": "code",
   "execution_count": 9,
   "id": "387b6c64",
   "metadata": {},
   "outputs": [
    {
     "data": {
      "text/plain": [
       "Name                      0\n",
       "Category                  0\n",
       "Product_type              0\n",
       "Review_count              0\n",
       "Price                     0\n",
       "Badge                     0\n",
       "have_Different_options    0\n",
       "New_product               0\n",
       "Discount                  0\n",
       "dtype: int64"
      ]
     },
     "execution_count": 9,
     "metadata": {},
     "output_type": "execute_result"
    }
   ],
   "source": [
    "# number of the mising value for each feature \n",
    "ikea_missing = ikea.isnull().sum()\n",
    "ikea_missing"
   ]
  },
  {
   "cell_type": "code",
   "execution_count": 10,
   "id": "9ecd310a",
   "metadata": {
    "scrolled": true
   },
   "outputs": [
    {
     "data": {
      "image/png": "[encoded data removed]",
      "text/plain": [
       "<Figure size 640x480 with 1 Axes>"
      ]
     },
     "metadata": {},
     "output_type": "display_data"
    }
   ],
   "source": [
    "#visulaize: \n",
    "plt.bar(ikea_missing.index, ikea_missing.values)\n",
    "plt.title('Missing Values in DataFrame')\n",
    "plt.xticks(rotation=45)\n",
    "plt.ylabel('Number of Missing Values')\n",
    "plt.ylim (0 , max(ikea_missing.values)+1)\n",
    "plt.show()"
   ]
  },
  {
   "cell_type": "markdown",
   "id": "20015a71",
   "metadata": {},
   "source": [
    "##### We check the missing value , and there is no missing value "
   ]
  },
  {
   "cell_type": "code",
   "execution_count": 11,
   "id": "abd6e771",
   "metadata": {},
   "outputs": [
    {
     "data": {
      "text/plain": [
       "9128"
      ]
     },
     "execution_count": 11,
     "metadata": {},
     "output_type": "execute_result"
    }
   ],
   "source": [
    "#check if there is duplicated observation \n",
    "sum(ikea.duplicated())"
   ]
  },
  {
   "cell_type": "code",
   "execution_count": 12,
   "id": "d31c405a",
   "metadata": {
    "scrolled": false
   },
   "outputs": [
    {
     "data": {
      "text/plain": [
       "(472, 9)"
      ]
     },
     "execution_count": 12,
     "metadata": {},
     "output_type": "execute_result"
    }
   ],
   "source": [
    "ikea = ikea.drop_duplicates()\n",
    "ikea.shape"
   ]
  },
  {
   "cell_type": "markdown",
   "id": "fe871ce5",
   "metadata": {},
   "source": [
    "#### As a process of data cleaning , we check if we have duplicate observation and we get 9128 duplicate and this is possible since there is a lot of product that may be in many category and we scraped this category.\n",
    "\n",
    "##### At the end we drop this duplicate observations , since we need to raise accuracy , efficiency and quality , and decrease bias "
   ]
  },
  {
   "cell_type": "code",
   "execution_count": 14,
   "id": "0f9560f3",
   "metadata": {
    "scrolled": true
   },
   "outputs": [
    {
     "data": {
      "image/png": "[encoded data removed]",
      "text/plain": [
       "<Figure size 1000x500 with 2 Axes>"
      ]
     },
     "metadata": {},
     "output_type": "display_data"
    }
   ],
   "source": [
    "# check for outliers\n",
    "fig, axes = plt.subplots(1, 2, figsize=(10, 5))\n",
    "\n",
    "# Create a box plot for the first feature\n",
    "sns.boxplot(x='Price', data=ikea, ax=axes[0])\n",
    "\n",
    "# Create a box plot for the second feature\n",
    "sns.boxplot(x='Review_count', data=ikea, ax=axes[1])\n",
    "\n",
    "fig.suptitle('Box plots of Price , Review_count', fontsize=16)\n",
    "plt.tight_layout()\n",
    "\n",
    "# Display the plot\n",
    "plt.show()"
   ]
  },
  {
   "cell_type": "markdown",
   "id": "71089292",
   "metadata": {},
   "source": [
    "##### outliers can provide valuable insights into the data and help identify interesting patterns or trends, and sometimes they also give us an explanation or help you elaborate on probabilities or hypotheses.\n",
    "##### It is normal to contain extreme values in this column, as they are caused by a variety of factors, such as the popularity of this product, whether negatively or positively , and about price we have diffrent category , like outdoor set or only one chair , so it's normal that the outdoor set have high price and this is not an outlier"
   ]
  },
  {
   "cell_type": "code",
   "execution_count": 15,
   "id": "c48de647",
   "metadata": {},
   "outputs": [],
   "source": [
    "ikea.to_csv('Ikea_datasetFinal.csv' ,  index=False)"
   ]
  },
  {
   "cell_type": "code",
   "execution_count": null,
   "id": "4cb75c58",
   "metadata": {},
   "outputs": [],
   "source": []
  },
  {
   "cell_type": "code",
   "execution_count": null,
   "id": "a6d315d4",
   "metadata": {},
   "outputs": [],
   "source": []
  }
 ],
 "metadata": {
  "kernelspec": {
   "display_name": "Python 3 (ipykernel)",
   "language": "python",
   "name": "python3"
  },
  "language_info": {
   "codemirror_mode": {
    "name": "ipython",
    "version": 3
   },
   "file_extension": ".py",
   "mimetype": "text/x-python",
   "name": "python",
   "nbconvert_exporter": "python",
   "pygments_lexer": "ipython3",
   "version": "3.9.13"
  }
 },
 "nbformat": 4,
 "nbformat_minor": 5
}
